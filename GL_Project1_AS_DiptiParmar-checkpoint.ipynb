{
 "cells": [
  {
   "cell_type": "code",
   "execution_count": null,
   "metadata": {},
   "outputs": [],
   "source": [
    "Q.1)Given Table\n",
    "\n",
    "Planned to           Actually placed           Actually placed             Total\n",
    "purchase             and order product A       and order product A\n",
    "product A            – yes(B)                  - No (~B)\n",
    "  \n",
    "Yes(A)                400(s)                      100(t)                   500(s+t)\n",
    "No(~A)                200(u)                     1300(v)                   1500(u+v)\n",
    "\n",
    "Total                 600(s+u)                    1400(t+v)                2000(s+t+u+v)"
   ]
  },
  {
   "cell_type": "code",
   "execution_count": 2,
   "metadata": {},
   "outputs": [
    {
     "name": "stdout",
     "output_type": "stream",
     "text": [
      "Probability A by B =  0.6666666666666666\n",
      "Probability B by A =  0.7999999999999999\n"
     ]
    }
   ],
   "source": [
    "#Q.1) -Solution\n",
    "\n",
    "#1) P(people who planned to purchase/Actually placed an order) means P(A given B)\n",
    "#i.e. P(A/B) = (s/(s+u)) =(400/600) = 0.66\n",
    "\n",
    "probAbyB=400/600\n",
    "print(\"Probability A by B = \",probAbyB)\n",
    "\n",
    "#Q.1) -Solution\n",
    "\n",
    "#2) P(people who planned to purchase and Actually placed an order / people planned to purchase) means P(B given A)\n",
    "#i.e P(B/A)=[P(B).P(A/B)]/P(A) ----- Acording to Baye's theorem\n",
    "#P(B)=(s+t)/(s+t+u+v)=600/2000=0.3\n",
    "#P(A/B)=s/s+u=400/600=0.66\n",
    "#P(A)=s+t/(s+t+u+v)=500/2000=0.25\n",
    "#therefore, P(B/A)=[(0.3)(0.66)/(0.25)]=[0.198/0.25]=[0.792]\n",
    "\n",
    "probA=500/2000\n",
    "probB=600/2000\n",
    "probAB=400/600\n",
    "probBbyA=(probB*probAB)/probA\n",
    "print(\"Probability B by A = \",probBbyA)"
   ]
  },
  {
   "cell_type": "code",
   "execution_count": null,
   "metadata": {},
   "outputs": [],
   "source": [
    "Q.2) - Solution\n",
    "In this example, We can apply Binomial Distribution (Bernoulli Process). It plays a major role in quality control \n",
    "and quality assurance function. Manufacturing units do use the binomial distribution for defective analysis. \n",
    "And, also it met the conditions of binomial distribution. \n",
    "a) samples are independent and random.\n",
    "B) Fixed number of trials (n=10) are given.\n",
    "C) There are only two outcomes (success or failure). \n",
    "D) the probability of success is uniform throughout the n trials.                \n",
    "       \n",
    "The binomial distribution formula is P(x)=    n!/(x!(n-x)!) * p^x *(1-p)^n-x\n",
    "No. of samples:- n=10(given)\n",
    "Probability of defective items(failure):- P=5% i.e P=0.05(given)\n",
    "Probability of not defective items(success):- 1-P =1-0.05=0.95 (calculated)"
   ]
  },
  {
   "cell_type": "code",
   "execution_count": 4,
   "metadata": {},
   "outputs": [
    {
     "name": "stdout",
     "output_type": "stream",
     "text": [
      "Probability that none of the items are defective =  0.5987369392383789\n",
      "Probability that  exactly one of the items is defective =  0.31512470486230504\n",
      "Probability that two or fewer of the items are defective =  0.07463479852001954\n",
      "Probability that three or more of the items are defective =  0.9895249405585937\n"
     ]
    }
   ],
   "source": [
    "#Q.2) - Solution\n",
    "\n",
    "import numpy as np\n",
    "import pandas as pd\n",
    "import scipy.stats as stats\n",
    "\n",
    "#A) P=0.05, n=10, x=0\n",
    "#P(x=0)= 10C0 * 0.05^0 * 0.95^10 =0.5987 \n",
    "a=stats.binom.pmf(0,10,0.05)\n",
    "print(\"Probability that none of the items are defective = \",a)\n",
    "\n",
    "#B) P=0.05, n=10, x=1\n",
    "#P(x=1)= 10C1 * 0.05^1 * 0.95^9 =0.3151\n",
    "b=stats.binom.pmf(1,10,0.05)\n",
    "print(\"Probability that  exactly one of the items is defective = \",b)\n",
    "\n",
    "#C) P=0.05, n=10, x=2 \n",
    "#P(x<=2)= 10C2 * 0.05^2 * 0.95^8 =0.074  \n",
    "c=stats.binom.pmf(2,10,0.05)\n",
    "print(\"Probability that two or fewer of the items are defective = \",c)\n",
    "\n",
    "#D) P=0.05, n=10, x=3 \n",
    "#P(x>3)= 1-P(x=3)=1-[10C3 * 0.05^3 * 0.95^7] = 1-0.0104 =0.9896 \n",
    "d=1-stats.binom.pmf(3,10,0.05)\n",
    "print(\"Probability that three or more of the items are defective = \",d)"
   ]
  },
  {
   "cell_type": "code",
   "execution_count": null,
   "metadata": {},
   "outputs": [],
   "source": [
    "Q.3 - solution\n",
    "In this example, we can use Poisson Distribution as average number of successes given \n",
    "i.e salesman sells an average 3 cars per week (lamda=3)\n",
    "Poisson Distribution Formula \n",
    "P(x) = e-lamda * (lamda)x / x!\n",
    "Where P(x)=Probability of x successes given an idea of lamda\n",
    "Lamda=Average number of successes\n",
    "e=2.71828(based on natural logaritham)\n",
    "x=successes per unit which can take values 0,1,2,3…α"
   ]
  },
  {
   "cell_type": "code",
   "execution_count": 5,
   "metadata": {},
   "outputs": [
    {
     "name": "stdout",
     "output_type": "stream",
     "text": [
      "Probability that in a given week he will sell some cars(1 or more) =  0.950212931632136\n",
      "Probability that in a given week he will sell 2 or more but less than 5 =  0.6161149710523164\n"
     ]
    },
    {
     "data": {
      "image/png": "[encoded data removed]",
      "text/plain": [
       "<Figure size 432x288 with 1 Axes>"
      ]
     },
     "metadata": {
      "needs_background": "light"
     },
     "output_type": "display_data"
    }
   ],
   "source": [
    "#Q.3 - Solution\n",
    "\n",
    "import numpy as np\n",
    "import scipy.stats as stats\n",
    "import matplotlib.pyplot as plt\n",
    "\n",
    "lamda=3\n",
    "\n",
    "#A) \n",
    " #    here, some cars means 1 or more so,   x>0 \n",
    "  #  P(x>0) = 1- P(x=0)\n",
    "   #               = 1- [(e-lamda * (lamda)x) / x!]\n",
    "    #              = 1-[(e-3 * 30) / 0!] =1- [0.04979]\n",
    "     #     = 0.95021 \n",
    "\n",
    "        \n",
    "P0=1-stats.poisson.pmf(0,lamda)\n",
    "print(\"Probability that in a given week he will sell some cars(1 or more) = \",P0)\n",
    "\n",
    "#B) \n",
    "  #  Here, 2 or more but less than 5 cars so, 2<=x<5\n",
    "   # P(2>=x<5) = P(x=2) + P(x=3) + P(x=4)\n",
    "   # = [(e-3 * 32) / 2!] + [(e-3 * 33) / 3!] + [(e-3 * 34) / 4!]\n",
    "    #                  = 0.22404 + 0.22404 + 0.16803\n",
    "     #   =0.61611\n",
    "        \n",
    "p2=stats.poisson.pmf(2,lamda)\n",
    "p3=stats.poisson.pmf(3,lamda)\n",
    "p4=stats.poisson.pmf(4,lamda)\n",
    "final_prob=p2+p3+p4\n",
    "print(\"Probability that in a given week he will sell 2 or more but less than 5 = \",final_prob)\n",
    "\n",
    "#c)Plot the poisson distribution function for cumulative probability of cars sold per-week\n",
    "#    vs number of cars sold per-week\n",
    "\n",
    "n=np.arange(0,20)\n",
    "c=stats.poisson.pmf(n,lamda)\n",
    "plt.plot(n,c,'-o')\n",
    "plt.title('Poisson (lamda)= %i' % lamda)\n",
    "plt.xlabel('Number of Cars sold per week')\n",
    "plt.ylabel('Cumulative probability of cars per week')\n",
    "plt.show()\n",
    "\n"
   ]
  },
  {
   "cell_type": "code",
   "execution_count": 38,
   "metadata": {},
   "outputs": [
    {
     "name": "stdout",
     "output_type": "stream",
     "text": [
      "0.653972032\n",
      "0.0022999680000000003\n",
      "1.4073960319999999\n"
     ]
    }
   ],
   "source": [
    "#Q. 4) - Solution\n",
    "\n",
    "#accuracy rate = 86.8% (given) i.e. 0.868 \n",
    "\n",
    "rate=0.868\n",
    "\n",
    "#A)P(3) = (0.868)3 = 0.653\n",
    "\n",
    "prob3=pow(0.868,3)\n",
    "print(prob3)\n",
    "\n",
    "#B) P(3 inorrect)= (1-0.868)3 = (0.132)3= 0.002299\n",
    "\n",
    "prob3inc=pow((1-0.868),3)\n",
    "print(prob3inc)\n",
    "\n",
    "#c) P(2 or 3)= 3c2 (0.868) ^ 2(0.132) + 3c3(0.868)^3(0.132)\n",
    "  #          =0.243+0.729\n",
    "   #         =0.972\n",
    "\n",
    "prob2=pow(0.868,2)\n",
    "prob3=pow(0.868,3)\n",
    "prob2or3=prob2+prob3\n",
    "print(prob2or3)\n"
   ]
  },
  {
   "cell_type": "code",
   "execution_count": 6,
   "metadata": {},
   "outputs": [
    {
     "name": "stdout",
     "output_type": "stream",
     "text": [
      "0.047790352272814696\n",
      "The percentage of students who score more than 80 =  0.047790352272814696\n",
      "The percentage of students who score less than 50 =  0.20232838096364308\n",
      "The percentage of students who score distinction =  0.10522071333365857\n"
     ]
    }
   ],
   "source": [
    "#Q.5)-Solution\n",
    "import numpy as np\n",
    "import pandas as pd\n",
    "import scipy.stats as stats\n",
    "\n",
    "n=300 #given\n",
    "mean=60 #given\n",
    "sd=12 #given\n",
    "\n",
    "#A) \n",
    "x=80\n",
    "#First Method\n",
    "#The probability (area) to the right is calculated as (1 - probability to the left)\n",
    "z=(x-mean)/sd\n",
    "a1=1-stats.norm.cdf(z)\n",
    "print(a1)\n",
    "\n",
    "#Second Method\n",
    "#The probability (area) to the right is calculated as (1 - probability to the left)\n",
    "a2=1-stats.norm.cdf(80,loc=60,scale=12)\n",
    "print(\"The percentage of students who score more than 80 = \",a2)\n",
    "\n",
    "#B)\n",
    "b1=stats.norm.cdf(50,loc=60,scale=12)\n",
    "print(\"The percentage of students who score less than 50 = \",b1)\n",
    "\n",
    "#C)\n",
    "c1=stats.norm.cdf(100,loc=60,scale=12)-stats.norm.cdf(75,loc=60,scale=12)\n",
    "print(\"The percentage of students who score distinction = \",c1)"
   ]
  },
  {
   "cell_type": "code",
   "execution_count": null,
   "metadata": {},
   "outputs": [],
   "source": [
    "Q.6 - Solution\n",
    "\n",
    "Example 1:\n",
    "A city survey found that 52% of women make mango pickle in summer.\n",
    "The same survey found that 70% of women make mango receipy in summer.\n",
    "If a woman is chosen at random, What is the probability thatthe woman make mango pickle and \n",
    "mango receipy both ?\n",
    "\n",
    "Example 2:\n",
    "In a box of 100 mangoes, 6 are overripe mangoes. \n",
    "If a person choose two mangoes from the box, \n",
    "What is the probability that both are overripe?\n",
    "\n",
    "Example 3:\n",
    "\"Fresh Mango\" agro offers farm fresh Organic naturally rippen Kesar mangoes. \n",
    "This agro company conducts quality checks on mangoes it offers.\n",
    "Suppose a random sample of 20 mangoes is selected for quality check purpose.\n",
    "and the overrippe mangoes found by them is 6%.\n",
    "1)What is the probability that exactly two of mangoes are overripe?\n",
    "2)What is the probability that none are overripe?\n",
    "3)What is probability that 3 or more than 3 mangoes are overripe?"
   ]
  },
  {
   "cell_type": "code",
   "execution_count": 7,
   "metadata": {},
   "outputs": [
    {
     "name": "stdout",
     "output_type": "stream",
     "text": [
      "0.364\n"
     ]
    }
   ],
   "source": [
    "#Example 1:  - Solution \n",
    "prob1=0.52*0.70 #(We multiply because of and operation)\n",
    "print(prob1)"
   ]
  },
  {
   "cell_type": "code",
   "execution_count": 8,
   "metadata": {},
   "outputs": [
    {
     "name": "stdout",
     "output_type": "stream",
     "text": [
      "0.0030303030303030303\n"
     ]
    }
   ],
   "source": [
    "#Example 2:  - Solution\n",
    "prob2=(6/100)*(5/99) #(We multiply because of and operation)\n",
    "print(prob2)"
   ]
  },
  {
   "cell_type": "code",
   "execution_count": 9,
   "metadata": {},
   "outputs": [
    {
     "name": "stdout",
     "output_type": "stream",
     "text": [
      "The probability that exactly two mangoes are overripe  =  0.22457296167261173\n",
      "The probability that non are overripe =  0.4759203148142534\n",
      "The probability that 3 or more that 3 mangoes are overripe =  0.9727712869980962\n"
     ]
    }
   ],
   "source": [
    "#Example 3: - Solution\n",
    "a=stats.binom.pmf(2,20,0.06)\n",
    "print(\"The probability that exactly two mangoes are overripe  = \",a)\n",
    "\n",
    "b=stats.binom.pmf(0,12,0.06)\n",
    "print(\"The probability that non are overripe = \",b)\n",
    "\n",
    "c=1-stats.binom.pmf(3,12,0.06)\n",
    "print(\"The probability that 3 or more that 3 mangoes are overripe = \",c)"
   ]
  },
  {
   "cell_type": "code",
   "execution_count": null,
   "metadata": {},
   "outputs": [],
   "source": []
  },
  {
   "cell_type": "code",
   "execution_count": null,
   "metadata": {},
   "outputs": [],
   "source": [
    "Q.2) Domain -Sports"
   ]
  },
  {
   "cell_type": "code",
   "execution_count": 2,
   "metadata": {},
   "outputs": [],
   "source": [
    "#Import the libraries\n",
    "import numpy as np\n",
    "import pandas as pd"
   ]
  },
  {
   "cell_type": "code",
   "execution_count": 3,
   "metadata": {},
   "outputs": [
    {
     "data": {
      "text/html": [
       "<div>\n",
       "<style scoped>\n",
       "    .dataframe tbody tr th:only-of-type {\n",
       "        vertical-align: middle;\n",
       "    }\n",
       "\n",
       "    .dataframe tbody tr th {\n",
       "        vertical-align: top;\n",
       "    }\n",
       "\n",
       "    .dataframe thead th {\n",
       "        text-align: right;\n",
       "    }\n",
       "</style>\n",
       "<table border=\"1\" class=\"dataframe\">\n",
       "  <thead>\n",
       "    <tr style=\"text-align: right;\">\n",
       "      <th></th>\n",
       "      <th>Team</th>\n",
       "      <th>Tournament</th>\n",
       "      <th>Score</th>\n",
       "      <th>PlayedGames</th>\n",
       "      <th>WonGames</th>\n",
       "      <th>DrawnGames</th>\n",
       "      <th>LostGames</th>\n",
       "      <th>BasketScored</th>\n",
       "      <th>BasketGiven</th>\n",
       "      <th>TournamentChampion</th>\n",
       "      <th>Runner-up</th>\n",
       "      <th>TeamLaunch</th>\n",
       "      <th>HighestPositionHeld</th>\n",
       "    </tr>\n",
       "  </thead>\n",
       "  <tbody>\n",
       "    <tr>\n",
       "      <th>0</th>\n",
       "      <td>Team 1</td>\n",
       "      <td>86</td>\n",
       "      <td>4385</td>\n",
       "      <td>2762</td>\n",
       "      <td>1647</td>\n",
       "      <td>552</td>\n",
       "      <td>563</td>\n",
       "      <td>5947</td>\n",
       "      <td>3140</td>\n",
       "      <td>33</td>\n",
       "      <td>23</td>\n",
       "      <td>1929</td>\n",
       "      <td>1</td>\n",
       "    </tr>\n",
       "    <tr>\n",
       "      <th>1</th>\n",
       "      <td>Team 2</td>\n",
       "      <td>86</td>\n",
       "      <td>4262</td>\n",
       "      <td>2762</td>\n",
       "      <td>1581</td>\n",
       "      <td>573</td>\n",
       "      <td>608</td>\n",
       "      <td>5900</td>\n",
       "      <td>3114</td>\n",
       "      <td>25</td>\n",
       "      <td>25</td>\n",
       "      <td>1929</td>\n",
       "      <td>1</td>\n",
       "    </tr>\n",
       "    <tr>\n",
       "      <th>2</th>\n",
       "      <td>Team 3</td>\n",
       "      <td>80</td>\n",
       "      <td>3442</td>\n",
       "      <td>2614</td>\n",
       "      <td>1241</td>\n",
       "      <td>598</td>\n",
       "      <td>775</td>\n",
       "      <td>4534</td>\n",
       "      <td>3309</td>\n",
       "      <td>10</td>\n",
       "      <td>8</td>\n",
       "      <td>1929</td>\n",
       "      <td>1</td>\n",
       "    </tr>\n",
       "    <tr>\n",
       "      <th>3</th>\n",
       "      <td>Team 4</td>\n",
       "      <td>82</td>\n",
       "      <td>3386</td>\n",
       "      <td>2664</td>\n",
       "      <td>1187</td>\n",
       "      <td>616</td>\n",
       "      <td>861</td>\n",
       "      <td>4398</td>\n",
       "      <td>3469</td>\n",
       "      <td>6</td>\n",
       "      <td>6</td>\n",
       "      <td>1931to32</td>\n",
       "      <td>1</td>\n",
       "    </tr>\n",
       "    <tr>\n",
       "      <th>4</th>\n",
       "      <td>Team 5</td>\n",
       "      <td>86</td>\n",
       "      <td>3368</td>\n",
       "      <td>2762</td>\n",
       "      <td>1209</td>\n",
       "      <td>633</td>\n",
       "      <td>920</td>\n",
       "      <td>4631</td>\n",
       "      <td>3700</td>\n",
       "      <td>8</td>\n",
       "      <td>7</td>\n",
       "      <td>1929</td>\n",
       "      <td>1</td>\n",
       "    </tr>\n",
       "    <tr>\n",
       "      <th>5</th>\n",
       "      <td>Team 6</td>\n",
       "      <td>73</td>\n",
       "      <td>2819</td>\n",
       "      <td>2408</td>\n",
       "      <td>990</td>\n",
       "      <td>531</td>\n",
       "      <td>887</td>\n",
       "      <td>3680</td>\n",
       "      <td>3373</td>\n",
       "      <td>1</td>\n",
       "      <td>4</td>\n",
       "      <td>1934-35</td>\n",
       "      <td>1</td>\n",
       "    </tr>\n",
       "    <tr>\n",
       "      <th>6</th>\n",
       "      <td>Team 7</td>\n",
       "      <td>82</td>\n",
       "      <td>2792</td>\n",
       "      <td>2626</td>\n",
       "      <td>948</td>\n",
       "      <td>608</td>\n",
       "      <td>1070</td>\n",
       "      <td>3609</td>\n",
       "      <td>3889</td>\n",
       "      <td>-</td>\n",
       "      <td>-</td>\n",
       "      <td>1929</td>\n",
       "      <td>3</td>\n",
       "    </tr>\n",
       "    <tr>\n",
       "      <th>7</th>\n",
       "      <td>Team 8</td>\n",
       "      <td>70</td>\n",
       "      <td>2573</td>\n",
       "      <td>2302</td>\n",
       "      <td>864</td>\n",
       "      <td>577</td>\n",
       "      <td>861</td>\n",
       "      <td>3228</td>\n",
       "      <td>3230</td>\n",
       "      <td>2</td>\n",
       "      <td>3</td>\n",
       "      <td>1929</td>\n",
       "      <td>1</td>\n",
       "    </tr>\n",
       "    <tr>\n",
       "      <th>8</th>\n",
       "      <td>Team 9</td>\n",
       "      <td>58</td>\n",
       "      <td>2109</td>\n",
       "      <td>1986</td>\n",
       "      <td>698</td>\n",
       "      <td>522</td>\n",
       "      <td>766</td>\n",
       "      <td>2683</td>\n",
       "      <td>2847</td>\n",
       "      <td>-</td>\n",
       "      <td>1</td>\n",
       "      <td>1939-40</td>\n",
       "      <td>2</td>\n",
       "    </tr>\n",
       "    <tr>\n",
       "      <th>9</th>\n",
       "      <td>Team 10</td>\n",
       "      <td>51</td>\n",
       "      <td>1884</td>\n",
       "      <td>1728</td>\n",
       "      <td>606</td>\n",
       "      <td>440</td>\n",
       "      <td>682</td>\n",
       "      <td>2159</td>\n",
       "      <td>2492</td>\n",
       "      <td>1</td>\n",
       "      <td>-</td>\n",
       "      <td>1932-33</td>\n",
       "      <td>1</td>\n",
       "    </tr>\n",
       "  </tbody>\n",
       "</table>\n",
       "</div>"
      ],
      "text/plain": [
       "      Team  Tournament Score PlayedGames WonGames DrawnGames LostGames  \\\n",
       "0   Team 1          86  4385        2762     1647        552       563   \n",
       "1   Team 2          86  4262        2762     1581        573       608   \n",
       "2   Team 3          80  3442        2614     1241        598       775   \n",
       "3   Team 4          82  3386        2664     1187        616       861   \n",
       "4   Team 5          86  3368        2762     1209        633       920   \n",
       "5   Team 6          73  2819        2408      990        531       887   \n",
       "6   Team 7          82  2792        2626      948        608      1070   \n",
       "7   Team 8          70  2573        2302      864        577       861   \n",
       "8   Team 9          58  2109        1986      698        522       766   \n",
       "9  Team 10          51  1884        1728      606        440       682   \n",
       "\n",
       "  BasketScored BasketGiven TournamentChampion Runner-up TeamLaunch  \\\n",
       "0         5947        3140                 33        23       1929   \n",
       "1         5900        3114                 25        25       1929   \n",
       "2         4534        3309                 10         8       1929   \n",
       "3         4398        3469                  6         6   1931to32   \n",
       "4         4631        3700                  8         7       1929   \n",
       "5         3680        3373                  1         4    1934-35   \n",
       "6         3609        3889                  -         -       1929   \n",
       "7         3228        3230                  2         3       1929   \n",
       "8         2683        2847                  -         1    1939-40   \n",
       "9         2159        2492                  1         -    1932-33   \n",
       "\n",
       "   HighestPositionHeld  \n",
       "0                    1  \n",
       "1                    1  \n",
       "2                    1  \n",
       "3                    1  \n",
       "4                    1  \n",
       "5                    1  \n",
       "6                    3  \n",
       "7                    1  \n",
       "8                    2  \n",
       "9                    1  "
      ]
     },
     "execution_count": 3,
     "metadata": {},
     "output_type": "execute_result"
    }
   ],
   "source": [
    "#Read and access the Dataset\n",
    "basbl=pd.read_csv(\"DS - Part2 - Basketball.csv\")\n",
    "basbl.head(10)"
   ]
  },
  {
   "cell_type": "code",
   "execution_count": 4,
   "metadata": {},
   "outputs": [
    {
     "name": "stdout",
     "output_type": "stream",
     "text": [
      "(61, 13)\n",
      "793\n"
     ]
    }
   ],
   "source": [
    "# shape (no of rows and columns) and size of the data (Total no of elements)\n",
    "print(basbl.shape)\n",
    "print(basbl.size)"
   ]
  },
  {
   "cell_type": "code",
   "execution_count": 5,
   "metadata": {},
   "outputs": [
    {
     "data": {
      "text/plain": [
       "Team                   object\n",
       "Tournament              int64\n",
       "Score                  object\n",
       "PlayedGames            object\n",
       "WonGames               object\n",
       "DrawnGames             object\n",
       "LostGames              object\n",
       "BasketScored           object\n",
       "BasketGiven            object\n",
       "TournamentChampion     object\n",
       "Runner-up              object\n",
       "TeamLaunch             object\n",
       "HighestPositionHeld     int64\n",
       "dtype: object"
      ]
     },
     "execution_count": 5,
     "metadata": {},
     "output_type": "execute_result"
    }
   ],
   "source": [
    "#Explore the data (All the columns are object tpes except Tournament and HighestPositionHeld)\n",
    "# We can identify the continous and categorical variables using dtype function\n",
    "basbl.dtypes"
   ]
  },
  {
   "cell_type": "code",
   "execution_count": 6,
   "metadata": {},
   "outputs": [
    {
     "name": "stdout",
     "output_type": "stream",
     "text": [
      "<class 'pandas.core.frame.DataFrame'>\n",
      "RangeIndex: 61 entries, 0 to 60\n",
      "Data columns (total 13 columns):\n",
      " #   Column               Non-Null Count  Dtype \n",
      "---  ------               --------------  ----- \n",
      " 0   Team                 61 non-null     object\n",
      " 1   Tournament           61 non-null     int64 \n",
      " 2   Score                61 non-null     object\n",
      " 3   PlayedGames          61 non-null     object\n",
      " 4   WonGames             61 non-null     object\n",
      " 5   DrawnGames           61 non-null     object\n",
      " 6   LostGames            61 non-null     object\n",
      " 7   BasketScored         61 non-null     object\n",
      " 8   BasketGiven          61 non-null     object\n",
      " 9   TournamentChampion   61 non-null     object\n",
      " 10  Runner-up            61 non-null     object\n",
      " 11  TeamLaunch           61 non-null     object\n",
      " 12  HighestPositionHeld  61 non-null     int64 \n",
      "dtypes: int64(2), object(11)\n",
      "memory usage: 6.3+ KB\n"
     ]
    }
   ],
   "source": [
    "#summery of dataset(index datatype, column datatype, non null values, memory usage)\n",
    "basbl.info()"
   ]
  },
  {
   "cell_type": "code",
   "execution_count": 7,
   "metadata": {},
   "outputs": [
    {
     "data": {
      "text/plain": [
       "Team                   61\n",
       "Tournament             61\n",
       "Score                  61\n",
       "PlayedGames            61\n",
       "WonGames               61\n",
       "DrawnGames             61\n",
       "LostGames              61\n",
       "BasketScored           61\n",
       "BasketGiven            61\n",
       "TournamentChampion     61\n",
       "Runner-up              61\n",
       "TeamLaunch             61\n",
       "HighestPositionHeld    61\n",
       "dtype: int64"
      ]
     },
     "execution_count": 7,
     "metadata": {},
     "output_type": "execute_result"
    }
   ],
   "source": [
    "#counts the records which are not null\n",
    "basbl.count()"
   ]
  },
  {
   "cell_type": "code",
   "execution_count": 8,
   "metadata": {},
   "outputs": [
    {
     "data": {
      "text/plain": [
       "False"
      ]
     },
     "execution_count": 8,
     "metadata": {},
     "output_type": "execute_result"
    }
   ],
   "source": [
    "#it returns false so no null values in dataset\n",
    "basbl.isnull().any().any()"
   ]
  },
  {
   "cell_type": "code",
   "execution_count": 9,
   "metadata": {},
   "outputs": [
    {
     "data": {
      "text/plain": [
       "Team                   0\n",
       "Tournament             0\n",
       "Score                  0\n",
       "PlayedGames            0\n",
       "WonGames               0\n",
       "DrawnGames             0\n",
       "LostGames              0\n",
       "BasketScored           0\n",
       "BasketGiven            0\n",
       "TournamentChampion     0\n",
       "Runner-up              0\n",
       "TeamLaunch             0\n",
       "HighestPositionHeld    0\n",
       "dtype: int64"
      ]
     },
     "execution_count": 9,
     "metadata": {},
     "output_type": "execute_result"
    }
   ],
   "source": [
    "#shows the column wise values of missing data\n",
    "basbl.isnull().sum()"
   ]
  },
  {
   "cell_type": "code",
   "execution_count": 10,
   "metadata": {},
   "outputs": [
    {
     "data": {
      "text/plain": [
       "Team                   object\n",
       "Tournament              int64\n",
       "Score                  object\n",
       "PlayedGames            object\n",
       "WonGames               object\n",
       "DrawnGames             object\n",
       "LostGames              object\n",
       "BasketScored           object\n",
       "BasketGiven            object\n",
       "TournamentChampion     object\n",
       "Runner-up              object\n",
       "TeamLaunch             object\n",
       "HighestPositionHeld     int64\n",
       "dtype: object"
      ]
     },
     "execution_count": 10,
     "metadata": {},
     "output_type": "execute_result"
    }
   ],
   "source": [
    "#Explore the data (All the columns are object tpes except Tournament and HighestPositionHeld)\n",
    "# We can identify the continous and categorical variables using dtype function\n",
    "basbl.dtypes"
   ]
  },
  {
   "cell_type": "code",
   "execution_count": 12,
   "metadata": {},
   "outputs": [],
   "source": [
    "EDA Descriptive Summery"
   ]
  },
  {
   "cell_type": "code",
   "execution_count": 13,
   "metadata": {},
   "outputs": [
    {
     "data": {
      "text/html": [
       "<div>\n",
       "<style scoped>\n",
       "    .dataframe tbody tr th:only-of-type {\n",
       "        vertical-align: middle;\n",
       "    }\n",
       "\n",
       "    .dataframe tbody tr th {\n",
       "        vertical-align: top;\n",
       "    }\n",
       "\n",
       "    .dataframe thead th {\n",
       "        text-align: right;\n",
       "    }\n",
       "</style>\n",
       "<table border=\"1\" class=\"dataframe\">\n",
       "  <thead>\n",
       "    <tr style=\"text-align: right;\">\n",
       "      <th></th>\n",
       "      <th>Tournament</th>\n",
       "      <th>HighestPositionHeld</th>\n",
       "    </tr>\n",
       "  </thead>\n",
       "  <tbody>\n",
       "    <tr>\n",
       "      <th>count</th>\n",
       "      <td>61.000000</td>\n",
       "      <td>61.000000</td>\n",
       "    </tr>\n",
       "    <tr>\n",
       "      <th>mean</th>\n",
       "      <td>24.000000</td>\n",
       "      <td>7.081967</td>\n",
       "    </tr>\n",
       "    <tr>\n",
       "      <th>std</th>\n",
       "      <td>26.827225</td>\n",
       "      <td>5.276663</td>\n",
       "    </tr>\n",
       "    <tr>\n",
       "      <th>min</th>\n",
       "      <td>1.000000</td>\n",
       "      <td>1.000000</td>\n",
       "    </tr>\n",
       "    <tr>\n",
       "      <th>25%</th>\n",
       "      <td>4.000000</td>\n",
       "      <td>3.000000</td>\n",
       "    </tr>\n",
       "    <tr>\n",
       "      <th>50%</th>\n",
       "      <td>12.000000</td>\n",
       "      <td>6.000000</td>\n",
       "    </tr>\n",
       "    <tr>\n",
       "      <th>75%</th>\n",
       "      <td>38.000000</td>\n",
       "      <td>10.000000</td>\n",
       "    </tr>\n",
       "    <tr>\n",
       "      <th>max</th>\n",
       "      <td>86.000000</td>\n",
       "      <td>20.000000</td>\n",
       "    </tr>\n",
       "  </tbody>\n",
       "</table>\n",
       "</div>"
      ],
      "text/plain": [
       "       Tournament  HighestPositionHeld\n",
       "count   61.000000            61.000000\n",
       "mean    24.000000             7.081967\n",
       "std     26.827225             5.276663\n",
       "min      1.000000             1.000000\n",
       "25%      4.000000             3.000000\n",
       "50%     12.000000             6.000000\n",
       "75%     38.000000            10.000000\n",
       "max     86.000000            20.000000"
      ]
     },
     "execution_count": 13,
     "metadata": {},
     "output_type": "execute_result"
    }
   ],
   "source": [
    "#Get a summary of the numerical columns in the data\n",
    "basbl.describe()"
   ]
  },
  {
   "cell_type": "code",
   "execution_count": 14,
   "metadata": {},
   "outputs": [
    {
     "name": "stdout",
     "output_type": "stream",
     "text": [
      "Data Tournament             24.000000\n",
      "HighestPositionHeld     7.081967\n",
      "dtype: float64\n"
     ]
    }
   ],
   "source": [
    "print(\"Data\",basbl.mean())"
   ]
  },
  {
   "cell_type": "code",
   "execution_count": 18,
   "metadata": {},
   "outputs": [
    {
     "name": "stdout",
     "output_type": "stream",
     "text": [
      "0    1\n",
      "dtype: int64\n"
     ]
    }
   ],
   "source": [
    "print(basbl['Tournament'].mode())"
   ]
  },
  {
   "cell_type": "code",
   "execution_count": 19,
   "metadata": {},
   "outputs": [
    {
     "name": "stdout",
     "output_type": "stream",
     "text": [
      "Data Tournament             12.0\n",
      "HighestPositionHeld     6.0\n",
      "dtype: float64\n"
     ]
    }
   ],
   "source": [
    "print(\"Data\",basbl.median())"
   ]
  },
  {
   "cell_type": "code",
   "execution_count": 20,
   "metadata": {},
   "outputs": [
    {
     "name": "stdout",
     "output_type": "stream",
     "text": [
      "Q1= Tournament             4.0\n",
      "HighestPositionHeld    3.0\n",
      "Name: 0.25, dtype: float64\n"
     ]
    }
   ],
   "source": [
    "print(\"Q1=\",basbl.quantile(0.25))"
   ]
  },
  {
   "cell_type": "code",
   "execution_count": 21,
   "metadata": {},
   "outputs": [
    {
     "name": "stdout",
     "output_type": "stream",
     "text": [
      "Q2= Tournament             38.0\n",
      "HighestPositionHeld    10.0\n",
      "Name: 0.75, dtype: float64\n"
     ]
    }
   ],
   "source": [
    "print(\"Q2=\",basbl.quantile(0.75))"
   ]
  },
  {
   "cell_type": "code",
   "execution_count": 22,
   "metadata": {},
   "outputs": [
    {
     "data": {
      "text/plain": [
       "Tournament             34.0\n",
       "HighestPositionHeld     7.0\n",
       "dtype: float64"
      ]
     },
     "execution_count": 22,
     "metadata": {},
     "output_type": "execute_result"
    }
   ],
   "source": [
    "basbl.quantile(0.75)-basbl.quantile(0.25)"
   ]
  },
  {
   "cell_type": "code",
   "execution_count": 11,
   "metadata": {},
   "outputs": [
    {
     "data": {
      "text/html": [
       "<div>\n",
       "<style scoped>\n",
       "    .dataframe tbody tr th:only-of-type {\n",
       "        vertical-align: middle;\n",
       "    }\n",
       "\n",
       "    .dataframe tbody tr th {\n",
       "        vertical-align: top;\n",
       "    }\n",
       "\n",
       "    .dataframe thead th {\n",
       "        text-align: right;\n",
       "    }\n",
       "</style>\n",
       "<table border=\"1\" class=\"dataframe\">\n",
       "  <thead>\n",
       "    <tr style=\"text-align: right;\">\n",
       "      <th></th>\n",
       "      <th>Team</th>\n",
       "      <th>Tournament</th>\n",
       "      <th>Score</th>\n",
       "      <th>PlayedGames</th>\n",
       "      <th>WonGames</th>\n",
       "      <th>DrawnGames</th>\n",
       "      <th>LostGames</th>\n",
       "      <th>BasketScored</th>\n",
       "      <th>BasketGiven</th>\n",
       "      <th>TournamentChampion</th>\n",
       "      <th>Runner-up</th>\n",
       "      <th>TeamLaunch</th>\n",
       "      <th>HighestPositionHeld</th>\n",
       "    </tr>\n",
       "  </thead>\n",
       "  <tbody>\n",
       "    <tr>\n",
       "      <th>0</th>\n",
       "      <td>Team 1</td>\n",
       "      <td>86</td>\n",
       "      <td>4385</td>\n",
       "      <td>2762</td>\n",
       "      <td>1647</td>\n",
       "      <td>552</td>\n",
       "      <td>563</td>\n",
       "      <td>5947</td>\n",
       "      <td>3140</td>\n",
       "      <td>33</td>\n",
       "      <td>23</td>\n",
       "      <td>1929</td>\n",
       "      <td>1</td>\n",
       "    </tr>\n",
       "    <tr>\n",
       "      <th>1</th>\n",
       "      <td>Team 2</td>\n",
       "      <td>86</td>\n",
       "      <td>4262</td>\n",
       "      <td>2762</td>\n",
       "      <td>1581</td>\n",
       "      <td>573</td>\n",
       "      <td>608</td>\n",
       "      <td>5900</td>\n",
       "      <td>3114</td>\n",
       "      <td>25</td>\n",
       "      <td>25</td>\n",
       "      <td>1929</td>\n",
       "      <td>1</td>\n",
       "    </tr>\n",
       "    <tr>\n",
       "      <th>2</th>\n",
       "      <td>Team 3</td>\n",
       "      <td>80</td>\n",
       "      <td>3442</td>\n",
       "      <td>2614</td>\n",
       "      <td>1241</td>\n",
       "      <td>598</td>\n",
       "      <td>775</td>\n",
       "      <td>4534</td>\n",
       "      <td>3309</td>\n",
       "      <td>10</td>\n",
       "      <td>8</td>\n",
       "      <td>1929</td>\n",
       "      <td>1</td>\n",
       "    </tr>\n",
       "    <tr>\n",
       "      <th>3</th>\n",
       "      <td>Team 4</td>\n",
       "      <td>82</td>\n",
       "      <td>3386</td>\n",
       "      <td>2664</td>\n",
       "      <td>1187</td>\n",
       "      <td>616</td>\n",
       "      <td>861</td>\n",
       "      <td>4398</td>\n",
       "      <td>3469</td>\n",
       "      <td>6</td>\n",
       "      <td>6</td>\n",
       "      <td>1931to32</td>\n",
       "      <td>1</td>\n",
       "    </tr>\n",
       "    <tr>\n",
       "      <th>4</th>\n",
       "      <td>Team 5</td>\n",
       "      <td>86</td>\n",
       "      <td>3368</td>\n",
       "      <td>2762</td>\n",
       "      <td>1209</td>\n",
       "      <td>633</td>\n",
       "      <td>920</td>\n",
       "      <td>4631</td>\n",
       "      <td>3700</td>\n",
       "      <td>8</td>\n",
       "      <td>7</td>\n",
       "      <td>1929</td>\n",
       "      <td>1</td>\n",
       "    </tr>\n",
       "    <tr>\n",
       "      <th>5</th>\n",
       "      <td>Team 6</td>\n",
       "      <td>73</td>\n",
       "      <td>2819</td>\n",
       "      <td>2408</td>\n",
       "      <td>990</td>\n",
       "      <td>531</td>\n",
       "      <td>887</td>\n",
       "      <td>3680</td>\n",
       "      <td>3373</td>\n",
       "      <td>1</td>\n",
       "      <td>4</td>\n",
       "      <td>1934-35</td>\n",
       "      <td>1</td>\n",
       "    </tr>\n",
       "    <tr>\n",
       "      <th>7</th>\n",
       "      <td>Team 8</td>\n",
       "      <td>70</td>\n",
       "      <td>2573</td>\n",
       "      <td>2302</td>\n",
       "      <td>864</td>\n",
       "      <td>577</td>\n",
       "      <td>861</td>\n",
       "      <td>3228</td>\n",
       "      <td>3230</td>\n",
       "      <td>2</td>\n",
       "      <td>3</td>\n",
       "      <td>1929</td>\n",
       "      <td>1</td>\n",
       "    </tr>\n",
       "    <tr>\n",
       "      <th>9</th>\n",
       "      <td>Team 10</td>\n",
       "      <td>51</td>\n",
       "      <td>1884</td>\n",
       "      <td>1728</td>\n",
       "      <td>606</td>\n",
       "      <td>440</td>\n",
       "      <td>682</td>\n",
       "      <td>2159</td>\n",
       "      <td>2492</td>\n",
       "      <td>1</td>\n",
       "      <td>-</td>\n",
       "      <td>1932-33</td>\n",
       "      <td>1</td>\n",
       "    </tr>\n",
       "    <tr>\n",
       "      <th>10</th>\n",
       "      <td>Team 11</td>\n",
       "      <td>45</td>\n",
       "      <td>1814</td>\n",
       "      <td>1530</td>\n",
       "      <td>563</td>\n",
       "      <td>392</td>\n",
       "      <td>575</td>\n",
       "      <td>2052</td>\n",
       "      <td>2188</td>\n",
       "      <td>1</td>\n",
       "      <td>5</td>\n",
       "      <td>1941to42</td>\n",
       "      <td>1</td>\n",
       "    </tr>\n",
       "  </tbody>\n",
       "</table>\n",
       "</div>"
      ],
      "text/plain": [
       "       Team  Tournament Score PlayedGames WonGames DrawnGames LostGames  \\\n",
       "0    Team 1          86  4385        2762     1647        552       563   \n",
       "1    Team 2          86  4262        2762     1581        573       608   \n",
       "2    Team 3          80  3442        2614     1241        598       775   \n",
       "3    Team 4          82  3386        2664     1187        616       861   \n",
       "4    Team 5          86  3368        2762     1209        633       920   \n",
       "5    Team 6          73  2819        2408      990        531       887   \n",
       "7    Team 8          70  2573        2302      864        577       861   \n",
       "9   Team 10          51  1884        1728      606        440       682   \n",
       "10  Team 11          45  1814        1530      563        392       575   \n",
       "\n",
       "   BasketScored BasketGiven TournamentChampion Runner-up TeamLaunch  \\\n",
       "0          5947        3140                 33        23       1929   \n",
       "1          5900        3114                 25        25       1929   \n",
       "2          4534        3309                 10         8       1929   \n",
       "3          4398        3469                  6         6   1931to32   \n",
       "4          4631        3700                  8         7       1929   \n",
       "5          3680        3373                  1         4    1934-35   \n",
       "7          3228        3230                  2         3       1929   \n",
       "9          2159        2492                  1         -    1932-33   \n",
       "10         2052        2188                  1         5   1941to42   \n",
       "\n",
       "    HighestPositionHeld  \n",
       "0                     1  \n",
       "1                     1  \n",
       "2                     1  \n",
       "3                     1  \n",
       "4                     1  \n",
       "5                     1  \n",
       "7                     1  \n",
       "9                     1  \n",
       "10                    1  "
      ]
     },
     "execution_count": 11,
     "metadata": {},
     "output_type": "execute_result"
    }
   ],
   "source": [
    "#Filtering DataFrame\n",
    "# Condition within dataframe \n",
    "basbl[basbl['HighestPositionHeld'] == 1]"
   ]
  },
  {
   "cell_type": "code",
   "execution_count": 12,
   "metadata": {},
   "outputs": [
    {
     "data": {
      "text/plain": [
       "1     6\n",
       "4     5\n",
       "12    4\n",
       "2     4\n",
       "3     4\n",
       "6     3\n",
       "86    3\n",
       "7     2\n",
       "11    2\n",
       "82    2\n",
       "Name: Tournament, dtype: int64"
      ]
     },
     "execution_count": 12,
     "metadata": {},
     "output_type": "execute_result"
    }
   ],
   "source": [
    "# Count the tournaments played by the teams\n",
    "#there are 3 teams played tournaments 86 times\n",
    "basbl.Tournament.value_counts().head(10)"
   ]
  },
  {
   "cell_type": "code",
   "execution_count": 26,
   "metadata": {},
   "outputs": [
    {
     "data": {
      "image/png": "[encoded data removed]",
      "text/plain": [
       "<Figure size 1080x360 with 1 Axes>"
      ]
     },
     "metadata": {
      "needs_background": "light"
     },
     "output_type": "display_data"
    }
   ],
   "source": [
    "#Univariate Data analysis\n",
    "#Ploting above output using plot function\n",
    "import matplotlib.pyplot as plt\n",
    "import seaborn as sns\n",
    "basbl.Tournament.value_counts().head(10).plot(kind='bar',edgecolor='black',color='lightblue',figsize=(15,5))\n",
    "plt.xlabel('Tournament Played')\n",
    "plt.ylabel('Team')\n",
    "plt.title('Top 10 teams in terms of tournament played')\n",
    "plt.show()"
   ]
  },
  {
   "cell_type": "code",
   "execution_count": 14,
   "metadata": {},
   "outputs": [
    {
     "data": {
      "text/plain": [
       "-     52\n",
       "1      3\n",
       "6      1\n",
       "10     1\n",
       "8      1\n",
       "25     1\n",
       "33     1\n",
       "2      1\n",
       "Name: TournamentChampion, dtype: int64"
      ]
     },
     "execution_count": 14,
     "metadata": {},
     "output_type": "execute_result"
    }
   ],
   "source": [
    "# How many times team won Tournament Championship\n",
    "#there are 3 teams won tournament championship 1 time\n",
    "basbl.TournamentChampion.value_counts()"
   ]
  },
  {
   "cell_type": "code",
   "execution_count": 27,
   "metadata": {},
   "outputs": [
    {
     "data": {
      "image/png": "[encoded data removed]",
      "text/plain": [
       "<Figure size 1080x360 with 1 Axes>"
      ]
     },
     "metadata": {
      "needs_background": "light"
     },
     "output_type": "display_data"
    }
   ],
   "source": [
    "#Ploting above output using plot function\n",
    "import matplotlib.pyplot as plt\n",
    "import seaborn as sns\n",
    "basbl.TournamentChampion.value_counts().head(10).plot(kind='bar',edgecolor='black',color='lightblue',figsize=(15,5))\n",
    "plt.xlabel('Tournament Champion')\n",
    "plt.ylabel('Team')\n",
    "plt.title('Top 10 teams in terms of tournament championship')\n",
    "plt.show()"
   ]
  },
  {
   "cell_type": "code",
   "execution_count": 73,
   "metadata": {},
   "outputs": [
    {
     "name": "stdout",
     "output_type": "stream",
     "text": [
      "     Team  Tournament Score PlayedGames WonGames DrawnGames LostGames  \\\n",
      "0  Team 1          86  4385        2762     1647        552       563   \n",
      "\n",
      "  BasketScored BasketGiven TournamentChampion Runner-up TeamLaunch  \\\n",
      "0         5947        3140                 33        23       1929   \n",
      "\n",
      "   HighestPositionHeld  \n",
      "0                    1  \n"
     ]
    }
   ],
   "source": [
    "print(basbl[basbl['TournamentChampion']=='33'])"
   ]
  },
  {
   "cell_type": "code",
   "execution_count": 75,
   "metadata": {},
   "outputs": [
    {
     "data": {
      "text/plain": [
       "TeamLaunch\n",
       "1929        10\n",
       "1930-31      1\n",
       "1931to32     1\n",
       "1932-33      1\n",
       "1933to34     1\n",
       "dtype: int64"
      ]
     },
     "execution_count": 75,
     "metadata": {},
     "output_type": "execute_result"
    }
   ],
   "source": [
    "#Which year max teams got launched\n",
    "basbl.groupby(['TeamLaunch']).size().head()"
   ]
  },
  {
   "cell_type": "code",
   "execution_count": 30,
   "metadata": {},
   "outputs": [
    {
     "data": {
      "text/plain": [
       "Team                   Team 1\n",
       "Tournament                 86\n",
       "Score                    4385\n",
       "PlayedGames              2762\n",
       "WonGames                 1647\n",
       "DrawnGames                552\n",
       "LostGames                 563\n",
       "BasketScored             5947\n",
       "BasketGiven              3140\n",
       "TournamentChampion         33\n",
       "Runner-up                  23\n",
       "TeamLaunch               1929\n",
       "HighestPositionHeld         1\n",
       "Name: 0, dtype: object"
      ]
     },
     "execution_count": 30,
     "metadata": {},
     "output_type": "execute_result"
    }
   ],
   "source": [
    "#Which team scored maximum score\n",
    "basbl.iloc[basbl['Score'].idxmax()]"
   ]
  },
  {
   "cell_type": "code",
   "execution_count": 34,
   "metadata": {},
   "outputs": [
    {
     "data": {
      "text/plain": [
       "Team                   Team 60\n",
       "Tournament                   1\n",
       "Score                       14\n",
       "PlayedGames                 30\n",
       "WonGames                     5\n",
       "DrawnGames                   4\n",
       "LostGames                   21\n",
       "BasketScored                34\n",
       "BasketGiven                 65\n",
       "TournamentChampion         NaN\n",
       "Runner-up                    -\n",
       "TeamLaunch             1955-56\n",
       "HighestPositionHeld         15\n",
       "Name: 59, dtype: object"
      ]
     },
     "execution_count": 34,
     "metadata": {},
     "output_type": "execute_result"
    }
   ],
   "source": [
    "#Which team scored lowest score\n",
    "basbl.iloc[basbl['Score'].idxmin()]"
   ]
  },
  {
   "cell_type": "code",
   "execution_count": 32,
   "metadata": {},
   "outputs": [
    {
     "data": {
      "text/plain": [
       "Team                   Team 1\n",
       "Tournament                 86\n",
       "Score                    4385\n",
       "PlayedGames              2762\n",
       "WonGames                 1647\n",
       "DrawnGames                552\n",
       "LostGames                 563\n",
       "BasketScored             5947\n",
       "BasketGiven              3140\n",
       "TournamentChampion         33\n",
       "Runner-up                  23\n",
       "TeamLaunch               1929\n",
       "HighestPositionHeld         1\n",
       "Name: 0, dtype: object"
      ]
     },
     "execution_count": 32,
     "metadata": {},
     "output_type": "execute_result"
    }
   ],
   "source": [
    "#Which team won max tournament championship\n",
    "basbl.iloc[basbl['TournamentChampion'].idxmax()]"
   ]
  },
  {
   "cell_type": "code",
   "execution_count": 33,
   "metadata": {},
   "outputs": [
    {
     "data": {
      "text/plain": [
       "Team                    Team 6\n",
       "Tournament                  73\n",
       "Score                     2819\n",
       "PlayedGames               2408\n",
       "WonGames                   990\n",
       "DrawnGames                 531\n",
       "LostGames                  887\n",
       "BasketScored              3680\n",
       "BasketGiven               3373\n",
       "TournamentChampion           1\n",
       "Runner-up                    4\n",
       "TeamLaunch             1934-35\n",
       "HighestPositionHeld          1\n",
       "Name: 5, dtype: object"
      ]
     },
     "execution_count": 33,
     "metadata": {},
     "output_type": "execute_result"
    }
   ],
   "source": [
    "#Which team won max tournament championship\n",
    "basbl.iloc[basbl['TournamentChampion'].idxmin()]"
   ]
  },
  {
   "cell_type": "code",
   "execution_count": 38,
   "metadata": {},
   "outputs": [
    {
     "data": {
      "text/plain": [
       "<AxesSubplot:xlabel='TournamentChampion', ylabel='sum_of_tournament'>"
      ]
     },
     "execution_count": 38,
     "metadata": {},
     "output_type": "execute_result"
    },
    {
     "data": {
      "image/png": "[encoded data removed]",
      "text/plain": [
       "<Figure size 432x288 with 1 Axes>"
      ]
     },
     "metadata": {
      "needs_background": "light"
     },
     "output_type": "display_data"
    }
   ],
   "source": [
    "#Find out most tournament won and highest score - top10 ( aggregation ) ( BY total number of tournament played )\n",
    "#Multivariate Data analysis\n",
    "k3 = basbl.groupby('TournamentChampion')['Tournament'].sum().sort_values(ascending=False).head(10) \n",
    "k3= k3.reset_index() # flatten the dataframe \n",
    "k3.columns = ['TournamentChampion' ,'sum_of_tournament']\n",
    "%matplotlib inline \n",
    "import seaborn as sns\n",
    "sns.barplot(data= k3 , x= 'TournamentChampion' , y ='sum_of_tournament')"
   ]
  },
  {
   "cell_type": "code",
   "execution_count": 39,
   "metadata": {},
   "outputs": [
    {
     "data": {
      "text/plain": [
       "TournamentChampion  Score \n",
       "33.0                4385.0    86\n",
       "25.0                4262.0    86\n",
       "8.0                 3368.0    86\n",
       "6.0                 3386.0    82\n",
       "10.0                3442.0    80\n",
       "Name: Tournament, dtype: int64"
      ]
     },
     "execution_count": 39,
     "metadata": {},
     "output_type": "execute_result"
    }
   ],
   "source": [
    "#showing the result of Highest score and max time of tournament won by grouping tournament played\n",
    "basbl.groupby(['TournamentChampion','Score'])['Tournament'].sum().sort_values(ascending=False).head()"
   ]
  },
  {
   "cell_type": "code",
   "execution_count": 43,
   "metadata": {},
   "outputs": [
    {
     "data": {
      "text/plain": [
       "TournamentChampion  WonGames\n",
       "33.0                1647        1\n",
       "25.0                1581        1\n",
       "10.0                1241        1\n",
       "8.0                 1209        1\n",
       "6.0                 1187        1\n",
       "Name: HighestPositionHeld, dtype: int64"
      ]
     },
     "execution_count": 43,
     "metadata": {},
     "output_type": "execute_result"
    }
   ],
   "source": [
    "#showing the result of max time of tournament won and max time of game won by grouping highestpositon held by team\n",
    "#we can identify the team with lowest performance in terms of loosing the game\n",
    "basbl.groupby(['TournamentChampion','WonGames'])['HighestPositionHeld'].size().sort_values(ascending=False).head()"
   ]
  },
  {
   "cell_type": "code",
   "execution_count": 44,
   "metadata": {},
   "outputs": [
    {
     "data": {
      "image/png": "[encoded data removed]",
      "text/plain": [
       "<Figure size 432x432 with 3 Axes>"
      ]
     },
     "metadata": {
      "needs_background": "light"
     },
     "output_type": "display_data"
    }
   ],
   "source": [
    "import matplotlib.pyplot as plt\n",
    "import seaborn as sns\n",
    "#Multivariate Distribution\n",
    "sns.jointplot(x='Tournament',y='HighestPositionHeld',data=basbl,kind='hex');"
   ]
  },
  {
   "cell_type": "code",
   "execution_count": 46,
   "metadata": {},
   "outputs": [
    {
     "data": {
      "image/png": "[encoded data removed]",
      "text/plain": [
       "<Figure size 432x288 with 1 Axes>"
      ]
     },
     "metadata": {
      "needs_background": "light"
     },
     "output_type": "display_data"
    }
   ],
   "source": [
    "basbl.WonGames.value_counts().head().plot(x='PlayedGames',y='WonGames',kind='bar')\n",
    "plt.show()"
   ]
  },
  {
   "cell_type": "code",
   "execution_count": 47,
   "metadata": {},
   "outputs": [
    {
     "data": {
      "text/plain": [
       "<AxesSubplot:xlabel='Tournament', ylabel='count'>"
      ]
     },
     "execution_count": 47,
     "metadata": {},
     "output_type": "execute_result"
    },
    {
     "data": {
      "image/png": "[encoded data removed]",
      "text/plain": [
       "<Figure size 432x288 with 1 Axes>"
      ]
     },
     "metadata": {
      "needs_background": "light"
     },
     "output_type": "display_data"
    }
   ],
   "source": [
    "#Which team has played most of the Tournament and least of the Tournament\n",
    "sns.countplot(x='Tournament',data=basbl)"
   ]
  },
  {
   "cell_type": "code",
   "execution_count": 48,
   "metadata": {},
   "outputs": [
    {
     "data": {
      "text/plain": [
       "<AxesSubplot:xlabel='HighestPositionHeld', ylabel='count'>"
      ]
     },
     "execution_count": 48,
     "metadata": {},
     "output_type": "execute_result"
    },
    {
     "data": {
      "image/png": "[encoded data removed]",
      "text/plain": [
       "<Figure size 432x288 with 1 Axes>"
      ]
     },
     "metadata": {
      "needs_background": "light"
     },
     "output_type": "display_data"
    }
   ],
   "source": [
    "#Which team helds highest position\n",
    "#Univariate Distribution\n",
    "sns.countplot(x='HighestPositionHeld',data=basbl)"
   ]
  },
  {
   "cell_type": "code",
   "execution_count": null,
   "metadata": {},
   "outputs": [],
   "source": [
    "3)please include any improvements or suggestions to the association management on quality, quantity, variety, velocity, veracity etc. on the data points collected by the association to perform a better data analysis in futur\n",
    "\n",
    "-Solution \n",
    "\n",
    "1) Missing value imputation and detection of complex outiliers can be used to improve data qaulity in terms of data analysis.\n",
    "2) Indentification of outiliers allows us to improve calculate validation limits and optimal correction values on an individual basis.\n",
    "3) Anlytics can deliver rplacement values for missing values in cross sectional data and time series data.\n",
    "4) The identification and elimination of duplicates in a database can be based on statistical methods that describe the similarity between records.\n",
    "5) Handling of different data quantities, it allows you to plan the optimal number of observations for a controlled experiment with sample size and calculation method."
   ]
  },
  {
   "cell_type": "code",
   "execution_count": null,
   "metadata": {},
   "outputs": [],
   "source": []
  },
  {
   "cell_type": "code",
   "execution_count": null,
   "metadata": {},
   "outputs": [],
   "source": [
    "Q.3) Domain-Startup ecosystem"
   ]
  },
  {
   "cell_type": "code",
   "execution_count": 1,
   "metadata": {},
   "outputs": [],
   "source": [
    "#import the libraries\n",
    "import numpy as np\n",
    "import pandas as pd\n",
    "import matplotlib.pyplot as plt\n",
    "import seaborn as sns\n",
    "%matplotlib inline"
   ]
  },
  {
   "cell_type": "code",
   "execution_count": 5,
   "metadata": {},
   "outputs": [],
   "source": [
    "#Read the CSV file \n",
    "comX=pd.read_csv(\"DS - Part3 - CompanyX_EU.csv\")"
   ]
  },
  {
   "cell_type": "code",
   "execution_count": null,
   "metadata": {},
   "outputs": [],
   "source": [
    "Data Exploration"
   ]
  },
  {
   "cell_type": "code",
   "execution_count": 6,
   "metadata": {},
   "outputs": [
    {
     "data": {
      "text/html": [
       "<div>\n",
       "<style scoped>\n",
       "    .dataframe tbody tr th:only-of-type {\n",
       "        vertical-align: middle;\n",
       "    }\n",
       "\n",
       "    .dataframe tbody tr th {\n",
       "        vertical-align: top;\n",
       "    }\n",
       "\n",
       "    .dataframe thead th {\n",
       "        text-align: right;\n",
       "    }\n",
       "</style>\n",
       "<table border=\"1\" class=\"dataframe\">\n",
       "  <thead>\n",
       "    <tr style=\"text-align: right;\">\n",
       "      <th></th>\n",
       "      <th>Startup</th>\n",
       "      <th>Product</th>\n",
       "      <th>Funding</th>\n",
       "      <th>Event</th>\n",
       "      <th>Result</th>\n",
       "      <th>OperatingState</th>\n",
       "    </tr>\n",
       "  </thead>\n",
       "  <tbody>\n",
       "    <tr>\n",
       "      <th>0</th>\n",
       "      <td>2600Hz</td>\n",
       "      <td>2600hz.com</td>\n",
       "      <td>NaN</td>\n",
       "      <td>Disrupt SF 2013</td>\n",
       "      <td>Contestant</td>\n",
       "      <td>Operating</td>\n",
       "    </tr>\n",
       "    <tr>\n",
       "      <th>1</th>\n",
       "      <td>3DLT</td>\n",
       "      <td>3dlt.com</td>\n",
       "      <td>$630K</td>\n",
       "      <td>Disrupt NYC 2013</td>\n",
       "      <td>Contestant</td>\n",
       "      <td>Closed</td>\n",
       "    </tr>\n",
       "    <tr>\n",
       "      <th>2</th>\n",
       "      <td>3DPrinterOS</td>\n",
       "      <td>3dprinteros.com</td>\n",
       "      <td>NaN</td>\n",
       "      <td>Disrupt SF 2016</td>\n",
       "      <td>Contestant</td>\n",
       "      <td>Operating</td>\n",
       "    </tr>\n",
       "    <tr>\n",
       "      <th>3</th>\n",
       "      <td>3Dprintler</td>\n",
       "      <td>3dprintler.com</td>\n",
       "      <td>$1M</td>\n",
       "      <td>Disrupt NY 2016</td>\n",
       "      <td>Audience choice</td>\n",
       "      <td>Operating</td>\n",
       "    </tr>\n",
       "    <tr>\n",
       "      <th>4</th>\n",
       "      <td>42 Technologies</td>\n",
       "      <td>42technologies.com</td>\n",
       "      <td>NaN</td>\n",
       "      <td>Disrupt NYC 2013</td>\n",
       "      <td>Contestant</td>\n",
       "      <td>Operating</td>\n",
       "    </tr>\n",
       "  </tbody>\n",
       "</table>\n",
       "</div>"
      ],
      "text/plain": [
       "           Startup             Product Funding             Event  \\\n",
       "0           2600Hz          2600hz.com     NaN   Disrupt SF 2013   \n",
       "1             3DLT            3dlt.com   $630K  Disrupt NYC 2013   \n",
       "2      3DPrinterOS     3dprinteros.com     NaN   Disrupt SF 2016   \n",
       "3       3Dprintler      3dprintler.com     $1M   Disrupt NY 2016   \n",
       "4  42 Technologies  42technologies.com     NaN  Disrupt NYC 2013   \n",
       "\n",
       "            Result OperatingState  \n",
       "0       Contestant      Operating  \n",
       "1       Contestant         Closed  \n",
       "2       Contestant      Operating  \n",
       "3  Audience choice      Operating  \n",
       "4       Contestant      Operating  "
      ]
     },
     "execution_count": 6,
     "metadata": {},
     "output_type": "execute_result"
    }
   ],
   "source": [
    "#Explore the data for non-null and extreme values\n",
    "comX.head()"
   ]
  },
  {
   "cell_type": "code",
   "execution_count": 7,
   "metadata": {},
   "outputs": [
    {
     "data": {
      "text/plain": [
       "Startup           object\n",
       "Product           object\n",
       "Funding           object\n",
       "Event             object\n",
       "Result            object\n",
       "OperatingState    object\n",
       "dtype: object"
      ]
     },
     "execution_count": 7,
     "metadata": {},
     "output_type": "execute_result"
    }
   ],
   "source": [
    "#Identify the types of data Eg: object , int, float etc\n",
    "comX.dtypes"
   ]
  },
  {
   "cell_type": "code",
   "execution_count": 8,
   "metadata": {},
   "outputs": [
    {
     "name": "stdout",
     "output_type": "stream",
     "text": [
      "(662, 6)\n",
      "3972\n"
     ]
    }
   ],
   "source": [
    "# Understand shape(No. of columns and rows and) and size of data(total no of elements) \n",
    "print(comX.shape)\n",
    "print(comX.size)"
   ]
  },
  {
   "cell_type": "code",
   "execution_count": 9,
   "metadata": {},
   "outputs": [
    {
     "name": "stdout",
     "output_type": "stream",
     "text": [
      "<class 'pandas.core.frame.DataFrame'>\n",
      "RangeIndex: 662 entries, 0 to 661\n",
      "Data columns (total 6 columns):\n",
      " #   Column          Non-Null Count  Dtype \n",
      "---  ------          --------------  ----- \n",
      " 0   Startup         662 non-null    object\n",
      " 1   Product         656 non-null    object\n",
      " 2   Funding         448 non-null    object\n",
      " 3   Event           662 non-null    object\n",
      " 4   Result          662 non-null    object\n",
      " 5   OperatingState  662 non-null    object\n",
      "dtypes: object(6)\n",
      "memory usage: 31.2+ KB\n"
     ]
    }
   ],
   "source": [
    "#Summery of dataframe(index datatype, column datatype, non null values, memory usage)\n",
    "comX.info()"
   ]
  },
  {
   "cell_type": "code",
   "execution_count": 10,
   "metadata": {},
   "outputs": [
    {
     "data": {
      "text/html": [
       "<div>\n",
       "<style scoped>\n",
       "    .dataframe tbody tr th:only-of-type {\n",
       "        vertical-align: middle;\n",
       "    }\n",
       "\n",
       "    .dataframe tbody tr th {\n",
       "        vertical-align: top;\n",
       "    }\n",
       "\n",
       "    .dataframe thead th {\n",
       "        text-align: right;\n",
       "    }\n",
       "</style>\n",
       "<table border=\"1\" class=\"dataframe\">\n",
       "  <thead>\n",
       "    <tr style=\"text-align: right;\">\n",
       "      <th></th>\n",
       "      <th>Startup</th>\n",
       "      <th>Product</th>\n",
       "      <th>Funding</th>\n",
       "      <th>Event</th>\n",
       "      <th>Result</th>\n",
       "      <th>OperatingState</th>\n",
       "    </tr>\n",
       "  </thead>\n",
       "  <tbody>\n",
       "    <tr>\n",
       "      <th>count</th>\n",
       "      <td>662</td>\n",
       "      <td>656</td>\n",
       "      <td>448</td>\n",
       "      <td>662</td>\n",
       "      <td>662</td>\n",
       "      <td>662</td>\n",
       "    </tr>\n",
       "    <tr>\n",
       "      <th>unique</th>\n",
       "      <td>662</td>\n",
       "      <td>656</td>\n",
       "      <td>240</td>\n",
       "      <td>26</td>\n",
       "      <td>5</td>\n",
       "      <td>4</td>\n",
       "    </tr>\n",
       "    <tr>\n",
       "      <th>top</th>\n",
       "      <td>sciencebite</td>\n",
       "      <td>iyuwan.cn</td>\n",
       "      <td>$1M</td>\n",
       "      <td>TC50 2008</td>\n",
       "      <td>Contestant</td>\n",
       "      <td>Operating</td>\n",
       "    </tr>\n",
       "    <tr>\n",
       "      <th>freq</th>\n",
       "      <td>1</td>\n",
       "      <td>1</td>\n",
       "      <td>17</td>\n",
       "      <td>52</td>\n",
       "      <td>488</td>\n",
       "      <td>465</td>\n",
       "    </tr>\n",
       "  </tbody>\n",
       "</table>\n",
       "</div>"
      ],
      "text/plain": [
       "            Startup    Product Funding      Event      Result OperatingState\n",
       "count           662        656     448        662         662            662\n",
       "unique          662        656     240         26           5              4\n",
       "top     sciencebite  iyuwan.cn     $1M  TC50 2008  Contestant      Operating\n",
       "freq              1          1      17         52         488            465"
      ]
     },
     "execution_count": 10,
     "metadata": {},
     "output_type": "execute_result"
    }
   ],
   "source": [
    "#calculates some statistical data like count, freq etc\n",
    "comX.describe()"
   ]
  },
  {
   "cell_type": "code",
   "execution_count": 11,
   "metadata": {},
   "outputs": [
    {
     "data": {
      "text/plain": [
       "Startup           662\n",
       "Product           656\n",
       "Funding           448\n",
       "Event             662\n",
       "Result            662\n",
       "OperatingState    662\n",
       "dtype: int64"
      ]
     },
     "execution_count": 11,
     "metadata": {},
     "output_type": "execute_result"
    }
   ],
   "source": [
    "# counts non-null number of records\n",
    "comX.count()"
   ]
  },
  {
   "cell_type": "code",
   "execution_count": 12,
   "metadata": {},
   "outputs": [
    {
     "data": {
      "text/plain": [
       "Startup           False\n",
       "Product            True\n",
       "Funding            True\n",
       "Event             False\n",
       "Result            False\n",
       "OperatingState    False\n",
       "dtype: bool"
      ]
     },
     "execution_count": 12,
     "metadata": {},
     "output_type": "execute_result"
    }
   ],
   "source": [
    "#Is any of the values in columns of the df null ? \n",
    "#Product and Funding columns have missing values\n",
    "comX.isnull().any()"
   ]
  },
  {
   "cell_type": "code",
   "execution_count": 13,
   "metadata": {},
   "outputs": [
    {
     "data": {
      "text/plain": [
       "Startup             0\n",
       "Product             6\n",
       "Funding           214\n",
       "Event               0\n",
       "Result              0\n",
       "OperatingState      0\n",
       "dtype: int64"
      ]
     },
     "execution_count": 13,
     "metadata": {},
     "output_type": "execute_result"
    }
   ],
   "source": [
    "#detects missing values for an array like object\n",
    "comX.isnull().sum()\n",
    "#comX.isna().sum()  - It gives same output\n",
    "#Product column has 6 missing values and Funding column has 214 missing values,"
   ]
  },
  {
   "cell_type": "code",
   "execution_count": null,
   "metadata": {},
   "outputs": [],
   "source": [
    "Data Preprocessing and Visualisation"
   ]
  },
  {
   "cell_type": "code",
   "execution_count": 14,
   "metadata": {},
   "outputs": [
    {
     "name": "stdout",
     "output_type": "stream",
     "text": [
      "          Startup          Product Funding                      Event  \\\n",
      "1            3DLT         3dlt.com   $630K           Disrupt NYC 2013   \n",
      "3      3Dprintler   3dprintler.com     $1M            Disrupt NY 2016   \n",
      "5            5to1         5to1.com  $19.3M                  TC50 2009   \n",
      "6    8 Securities  8securities.com    $29M       Disrupt Beijing 2011   \n",
      "10     AdhereTech   adheretech.com   $1.8M  Hardware Battlefield 2014   \n",
      "..            ...              ...     ...                        ...   \n",
      "657        Zivity       zivity.com     $8M                  TC40 2007   \n",
      "658        Zmorph     zmorph3d.com     $1M                          -   \n",
      "659        Zocdoc       zocdoc.com   $223M                  TC40 2007   \n",
      "660          Zula      zulaapp.com   $3.4M            Disrupt SF 2013   \n",
      "661        Zumper       zumper.com  $31.5M            Disrupt SF 2012   \n",
      "\n",
      "              Result OperatingState  \n",
      "1         Contestant         Closed  \n",
      "3    Audience choice      Operating  \n",
      "5         Contestant       Acquired  \n",
      "6           Finalist      Operating  \n",
      "10        Contestant      Operating  \n",
      "..               ...            ...  \n",
      "657       Contestant      Operating  \n",
      "658  Audience choice      Operating  \n",
      "659       Contestant      Operating  \n",
      "660  Audience choice      Operating  \n",
      "661         Finalist      Operating  \n",
      "\n",
      "[446 rows x 6 columns]\n"
     ]
    }
   ],
   "source": [
    "# drops the null values and create a new dataframe\n",
    "df1=comX.dropna().copy(deep=True)\n",
    "print(df1)"
   ]
  },
  {
   "cell_type": "code",
   "execution_count": 16,
   "metadata": {},
   "outputs": [
    {
     "data": {
      "text/plain": [
       "166    $34.6M\n",
       "302    $42.1M\n",
       "230       NaN\n",
       "45        NaN\n",
       "450    $20.3K\n",
       "Name: Funding, dtype: object"
      ]
     },
     "execution_count": 16,
     "metadata": {},
     "output_type": "execute_result"
    }
   ],
   "source": [
    "#we dont have absolute numbers to directly use in our test \n",
    "#We will strip the values of the dollar sign and the abbreviations\n",
    "#so, we will convert it into integer\n",
    "comX['Funding'].sample(5)"
   ]
  },
  {
   "cell_type": "code",
   "execution_count": 26,
   "metadata": {},
   "outputs": [],
   "source": [
    "#so, we will convert it into integer\n",
    "#It will creat a new column (Funds_in_Millions)\n",
    "#We are using apply function in which we pass lamda function\n",
    "#Funding column shows the values in K or M(thousand or million), we will convert it into millions\n",
    "#If the last element in the value is 'K', then divide the number by 1000 else,\n",
    "#if it is 'B', multiply by 1000 else, return as it is.\n",
    "\n",
    "df1.loc[:,'Funds_in_Million']=df1['Funding'].apply(lambda x: float(x[1:-1])/1000 if x[-1]=='K' else (float(x[1:-1])*1000 if x[-1]=='B' else float(x[1:-1])))"
   ]
  },
  {
   "cell_type": "code",
   "execution_count": 27,
   "metadata": {},
   "outputs": [
    {
     "data": {
      "text/html": [
       "<div>\n",
       "<style scoped>\n",
       "    .dataframe tbody tr th:only-of-type {\n",
       "        vertical-align: middle;\n",
       "    }\n",
       "\n",
       "    .dataframe tbody tr th {\n",
       "        vertical-align: top;\n",
       "    }\n",
       "\n",
       "    .dataframe thead th {\n",
       "        text-align: right;\n",
       "    }\n",
       "</style>\n",
       "<table border=\"1\" class=\"dataframe\">\n",
       "  <thead>\n",
       "    <tr style=\"text-align: right;\">\n",
       "      <th></th>\n",
       "      <th>Startup</th>\n",
       "      <th>Product</th>\n",
       "      <th>Funding</th>\n",
       "      <th>Event</th>\n",
       "      <th>Result</th>\n",
       "      <th>OperatingState</th>\n",
       "      <th>Funds_in_Million</th>\n",
       "    </tr>\n",
       "  </thead>\n",
       "  <tbody>\n",
       "    <tr>\n",
       "      <th>459</th>\n",
       "      <td>Ritual</td>\n",
       "      <td>ritual.com</td>\n",
       "      <td>$5M</td>\n",
       "      <td>Disrupt NY 2016</td>\n",
       "      <td>Finalist</td>\n",
       "      <td>Operating</td>\n",
       "      <td>5.0</td>\n",
       "    </tr>\n",
       "    <tr>\n",
       "      <th>258</th>\n",
       "      <td>import.io</td>\n",
       "      <td>import.io</td>\n",
       "      <td>$18.2M</td>\n",
       "      <td>Disrupt EU 2013</td>\n",
       "      <td>Finalist</td>\n",
       "      <td>Operating</td>\n",
       "      <td>18.2</td>\n",
       "    </tr>\n",
       "    <tr>\n",
       "      <th>380</th>\n",
       "      <td>O-Robotix</td>\n",
       "      <td>orobotix.com</td>\n",
       "      <td>$100K</td>\n",
       "      <td>Disrupt NY 2016</td>\n",
       "      <td>Contestant</td>\n",
       "      <td>Operating</td>\n",
       "      <td>0.1</td>\n",
       "    </tr>\n",
       "    <tr>\n",
       "      <th>611</th>\n",
       "      <td>Venneos GmbH</td>\n",
       "      <td>venneos.com</td>\n",
       "      <td>$1.1M</td>\n",
       "      <td>-</td>\n",
       "      <td>Contestant</td>\n",
       "      <td>Operating</td>\n",
       "      <td>1.1</td>\n",
       "    </tr>\n",
       "    <tr>\n",
       "      <th>325</th>\n",
       "      <td>Lystable</td>\n",
       "      <td>lystable.com</td>\n",
       "      <td>$25.1M</td>\n",
       "      <td>Disrupt London 2015</td>\n",
       "      <td>Finalist</td>\n",
       "      <td>Operating</td>\n",
       "      <td>25.1</td>\n",
       "    </tr>\n",
       "  </tbody>\n",
       "</table>\n",
       "</div>"
      ],
      "text/plain": [
       "          Startup       Product Funding                Event      Result  \\\n",
       "459        Ritual    ritual.com     $5M      Disrupt NY 2016    Finalist   \n",
       "258     import.io     import.io  $18.2M      Disrupt EU 2013    Finalist   \n",
       "380     O-Robotix  orobotix.com   $100K      Disrupt NY 2016  Contestant   \n",
       "611  Venneos GmbH   venneos.com   $1.1M                    -  Contestant   \n",
       "325      Lystable  lystable.com  $25.1M  Disrupt London 2015    Finalist   \n",
       "\n",
       "    OperatingState  Funds_in_Million  \n",
       "459      Operating               5.0  \n",
       "258      Operating              18.2  \n",
       "380      Operating               0.1  \n",
       "611      Operating               1.1  \n",
       "325      Operating              25.1  "
      ]
     },
     "execution_count": 27,
     "metadata": {},
     "output_type": "execute_result"
    }
   ],
   "source": [
    "df1.sample(5)"
   ]
  },
  {
   "cell_type": "code",
   "execution_count": 37,
   "metadata": {},
   "outputs": [
    {
     "data": {
      "text/plain": [
       "<AxesSubplot:ylabel='Funds_in_Million'>"
      ]
     },
     "execution_count": 37,
     "metadata": {},
     "output_type": "execute_result"
    },
    {
     "data": {
      "image/png": "[encoded data removed]",
      "text/plain": [
       "<Figure size 432x288 with 1 Axes>"
      ]
     },
     "metadata": {
      "needs_background": "light"
     },
     "output_type": "display_data"
    }
   ],
   "source": [
    "#Plot box plot for funds in million\n",
    "\n",
    "sns.boxplot(y=df1['Funds_in_Million'])"
   ]
  },
  {
   "cell_type": "code",
   "execution_count": 38,
   "metadata": {},
   "outputs": [
    {
     "name": "stdout",
     "output_type": "stream",
     "text": [
      "8.72975\n",
      "Lower Fence= -12.349374999999998\n"
     ]
    }
   ],
   "source": [
    "#Get the lower fence\n",
    "\n",
    "q1=df1['Funds_in_Million'].quantile(0.25)\n",
    "q3=df1['Funds_in_Million'].quantile(0.75)\n",
    "iqr=q3-q1\n",
    "print(iqr)\n",
    "lower_fence=q1-(1.5*iqr)\n",
    "print(\"Lower Fence=\",lower_fence)"
   ]
  },
  {
   "cell_type": "code",
   "execution_count": 40,
   "metadata": {},
   "outputs": [
    {
     "name": "stdout",
     "output_type": "stream",
     "text": [
      "8.72975\n",
      "Upper Fence= 22.569625\n"
     ]
    }
   ],
   "source": [
    "#Get the upper fence\n",
    "\n",
    "q1=df1['Funds_in_Million'].quantile(0.25)\n",
    "q3=df1['Funds_in_Million'].quantile(0.75)\n",
    "\n",
    "iqr=q3-q1\n",
    "print(iqr)\n",
    "\n",
    "upper_fence=q3+(1.5*iqr)\n",
    "print('Upper Fence=',upper_fence)"
   ]
  },
  {
   "cell_type": "code",
   "execution_count": 41,
   "metadata": {},
   "outputs": [
    {
     "name": "stdout",
     "output_type": "stream",
     "text": [
      "No of outliners greater than upper fence = 60\n"
     ]
    }
   ],
   "source": [
    "#Check number of outliners greater than upper fence\n",
    "\n",
    "No_Out=df1[df1['Funds_in_Million']>upper_fence]\n",
    "print(\"No of outliners greater than upper fence =\",len(No_Out))\n"
   ]
  },
  {
   "cell_type": "code",
   "execution_count": 42,
   "metadata": {},
   "outputs": [],
   "source": [
    "#Drop the values that are greater than the upper fence\n",
    "df1.drop(df1[df1.Funds_in_Million>upper_fence].index,inplace=True)\n",
    "#df1.drop(df1[df1.Funds_in_Million > upper_fence].index, inplace = True)"
   ]
  },
  {
   "cell_type": "code",
   "execution_count": 47,
   "metadata": {},
   "outputs": [
    {
     "data": {
      "text/plain": [
       "<AxesSubplot:ylabel='Funds_in_Million'>"
      ]
     },
     "execution_count": 47,
     "metadata": {},
     "output_type": "execute_result"
    },
    {
     "data": {
      "image/png": "[encoded data removed]",
      "text/plain": [
       "<Figure size 432x288 with 1 Axes>"
      ]
     },
     "metadata": {
      "needs_background": "light"
     },
     "output_type": "display_data"
    }
   ],
   "source": [
    "#Plot the box plot after dropping the values\n",
    "sns.boxplot(y=df1['Funds_in_Million'])"
   ]
  },
  {
   "cell_type": "code",
   "execution_count": 48,
   "metadata": {},
   "outputs": [
    {
     "data": {
      "text/plain": [
       "Operating    275\n",
       "Closed        56\n",
       "Acquired      55\n",
       "Name: OperatingState, dtype: int64"
      ]
     },
     "execution_count": 48,
     "metadata": {},
     "output_type": "execute_result"
    }
   ],
   "source": [
    "#Check frequency of the operating status features classes\n",
    "#There are 319 companies that are operating and 57 got closed\n",
    "df1.OperatingState.value_counts()"
   ]
  },
  {
   "cell_type": "code",
   "execution_count": 50,
   "metadata": {},
   "outputs": [
    {
     "name": "stderr",
     "output_type": "stream",
     "text": [
      "C:\\Users\\sAn\\anaconda3\\lib\\site-packages\\seaborn\\distributions.py:2551: FutureWarning: `distplot` is a deprecated function and will be removed in a future version. Please adapt your code to use either `displot` (a figure-level function with similar flexibility) or `histplot` (an axes-level function for histograms).\n",
      "  warnings.warn(msg, FutureWarning)\n"
     ]
    },
    {
     "data": {
      "text/plain": [
       "<AxesSubplot:xlabel='Funds_in_Million', ylabel='Density'>"
      ]
     },
     "execution_count": 50,
     "metadata": {},
     "output_type": "execute_result"
    },
    {
     "data": {
      "image/png": "[encoded data removed]",
      "text/plain": [
       "<Figure size 432x288 with 1 Axes>"
      ]
     },
     "metadata": {
      "needs_background": "light"
     },
     "output_type": "display_data"
    }
   ],
   "source": [
    "#Plot a distribution plot for Funds in million.\n",
    "sns.distplot(df1['Funds_in_Million'])"
   ]
  },
  {
   "cell_type": "code",
   "execution_count": 56,
   "metadata": {},
   "outputs": [
    {
     "name": "stderr",
     "output_type": "stream",
     "text": [
      "C:\\Users\\sAn\\anaconda3\\lib\\site-packages\\seaborn\\distributions.py:2551: FutureWarning: `distplot` is a deprecated function and will be removed in a future version. Please adapt your code to use either `displot` (a figure-level function with similar flexibility) or `histplot` (an axes-level function for histograms).\n",
      "  warnings.warn(msg, FutureWarning)\n",
      "C:\\Users\\sAn\\anaconda3\\lib\\site-packages\\seaborn\\distributions.py:2551: FutureWarning: `distplot` is a deprecated function and will be removed in a future version. Please adapt your code to use either `displot` (a figure-level function with similar flexibility) or `histplot` (an axes-level function for histograms).\n",
      "  warnings.warn(msg, FutureWarning)\n"
     ]
    },
    {
     "data": {
      "text/plain": [
       "Text(0.5, 1.0, 'Funds raised by companies that got closed')"
      ]
     },
     "execution_count": 56,
     "metadata": {},
     "output_type": "execute_result"
    },
    {
     "data": {
      "image/png": "[encoded data removed]",
      "text/plain": [
       "<Figure size 1080x288 with 2 Axes>"
      ]
     },
     "metadata": {
      "needs_background": "light"
     },
     "output_type": "display_data"
    }
   ],
   "source": [
    "#Plot distribution plots for companies still operating and companies that closed.\n",
    "fig,ax=plt.subplots(1,2)\n",
    "\n",
    "fig.set_figwidth(15)\n",
    "\n",
    "sns.distplot(df1.loc[df1.OperatingState=='Operating','Funds_in_Million'],ax=ax[0])\n",
    "sns.distplot(df1.loc[df1.OperatingState=='Closed','Funds_in_Million'],ax=ax[1])\n",
    "\n",
    "ax[0].set_title('Funds raised by the companies still operating')\n",
    "ax[1].set_title('Funds raised by companies that got closed')"
   ]
  },
  {
   "cell_type": "code",
   "execution_count": null,
   "metadata": {},
   "outputs": [],
   "source": [
    "Statistical Analysis"
   ]
  },
  {
   "cell_type": "code",
   "execution_count": 60,
   "metadata": {},
   "outputs": [
    {
     "name": "stdout",
     "output_type": "stream",
     "text": [
      "\t Since the p-value,0.192>0.05(aplha) the differnce is not significant and, \n",
      "    \t we fail to reject the Null hypothesis\n"
     ]
    }
   ],
   "source": [
    "#Is there any significant difference between Funds raised by companies that are still operating vs companies that closed down? \n",
    "#Write the null hypothesis and alternative hypothesis.\n",
    "#Test for significance and conclusion•\n",
    "\n",
    "#Null hypothesis (Ho) : There is no difference between the two means\n",
    "\n",
    "#Alternate hypothesis (Ha) : There is significant difference between the two means\n",
    "\n",
    "#Performing 2 sample z test\n",
    "from statsmodels.stats.weightstats import ztest\n",
    "\n",
    "sample1=df1.loc[df1.OperatingState=='Operating','Funds_in_Million']\n",
    "sample2=df1.loc[df1.OperatingState=='Closed','Funds_in_Million']\n",
    "\n",
    "#Lets consider a significance level of 5%\n",
    "alpha=0.05 \n",
    "test_statistic,p_value=ztest(sample1,sample2)\n",
    "\n",
    "if p_value<=alpha:\n",
    "    print(f'Since the p_value, {round(p_value,3)}<{alpha}(aplha) the difference is significant and we reject the Null hypoothesis')\n",
    "else:\n",
    "    print(f'''\\t Since the p-value,{round(p_value,3)}>{alpha}(aplha) the differnce is not significant and, \n",
    "    \\t we fail to reject the Null hypothesis''')"
   ]
  },
  {
   "cell_type": "code",
   "execution_count": null,
   "metadata": {},
   "outputs": [],
   "source": [
    "Conclusion : From above test, We found that we can not make a conclusion that\n",
    "             the companies have raised more money or not in order to suceed as\n",
    "             we fail to reject the null hypothesis"
   ]
  },
  {
   "cell_type": "code",
   "execution_count": 62,
   "metadata": {},
   "outputs": [
    {
     "data": {
      "text/html": [
       "<div>\n",
       "<style scoped>\n",
       "    .dataframe tbody tr th:only-of-type {\n",
       "        vertical-align: middle;\n",
       "    }\n",
       "\n",
       "    .dataframe tbody tr th {\n",
       "        vertical-align: top;\n",
       "    }\n",
       "\n",
       "    .dataframe thead th {\n",
       "        text-align: right;\n",
       "    }\n",
       "</style>\n",
       "<table border=\"1\" class=\"dataframe\">\n",
       "  <thead>\n",
       "    <tr style=\"text-align: right;\">\n",
       "      <th></th>\n",
       "      <th>Startup</th>\n",
       "      <th>Product</th>\n",
       "      <th>Funding</th>\n",
       "      <th>Event</th>\n",
       "      <th>Result</th>\n",
       "      <th>OperatingState</th>\n",
       "    </tr>\n",
       "  </thead>\n",
       "  <tbody>\n",
       "    <tr>\n",
       "      <th>0</th>\n",
       "      <td>2600Hz</td>\n",
       "      <td>2600hz.com</td>\n",
       "      <td>NaN</td>\n",
       "      <td>Disrupt SF 2013</td>\n",
       "      <td>Contestant</td>\n",
       "      <td>Operating</td>\n",
       "    </tr>\n",
       "    <tr>\n",
       "      <th>1</th>\n",
       "      <td>3DLT</td>\n",
       "      <td>3dlt.com</td>\n",
       "      <td>$630K</td>\n",
       "      <td>Disrupt NYC 2013</td>\n",
       "      <td>Contestant</td>\n",
       "      <td>Closed</td>\n",
       "    </tr>\n",
       "    <tr>\n",
       "      <th>2</th>\n",
       "      <td>3DPrinterOS</td>\n",
       "      <td>3dprinteros.com</td>\n",
       "      <td>NaN</td>\n",
       "      <td>Disrupt SF 2016</td>\n",
       "      <td>Contestant</td>\n",
       "      <td>Operating</td>\n",
       "    </tr>\n",
       "    <tr>\n",
       "      <th>3</th>\n",
       "      <td>3Dprintler</td>\n",
       "      <td>3dprintler.com</td>\n",
       "      <td>$1M</td>\n",
       "      <td>Disrupt NY 2016</td>\n",
       "      <td>Audience choice</td>\n",
       "      <td>Operating</td>\n",
       "    </tr>\n",
       "    <tr>\n",
       "      <th>4</th>\n",
       "      <td>42 Technologies</td>\n",
       "      <td>42technologies.com</td>\n",
       "      <td>NaN</td>\n",
       "      <td>Disrupt NYC 2013</td>\n",
       "      <td>Contestant</td>\n",
       "      <td>Operating</td>\n",
       "    </tr>\n",
       "  </tbody>\n",
       "</table>\n",
       "</div>"
      ],
      "text/plain": [
       "           Startup             Product Funding             Event  \\\n",
       "0           2600Hz          2600hz.com     NaN   Disrupt SF 2013   \n",
       "1             3DLT            3dlt.com   $630K  Disrupt NYC 2013   \n",
       "2      3DPrinterOS     3dprinteros.com     NaN   Disrupt SF 2016   \n",
       "3       3Dprintler      3dprintler.com     $1M   Disrupt NY 2016   \n",
       "4  42 Technologies  42technologies.com     NaN  Disrupt NYC 2013   \n",
       "\n",
       "            Result OperatingState  \n",
       "0       Contestant      Operating  \n",
       "1       Contestant         Closed  \n",
       "2       Contestant      Operating  \n",
       "3  Audience choice      Operating  \n",
       "4       Contestant      Operating  "
      ]
     },
     "execution_count": 62,
     "metadata": {},
     "output_type": "execute_result"
    }
   ],
   "source": [
    "#Make a copy of the original data frame\n",
    "df2=comX.copy(deep=True)\n",
    "df2.head()"
   ]
  },
  {
   "cell_type": "code",
   "execution_count": 63,
   "metadata": {},
   "outputs": [
    {
     "data": {
      "text/plain": [
       "Contestant         488\n",
       "Finalist            84\n",
       "Audience choice     41\n",
       "Winner              26\n",
       "Runner up           23\n",
       "Name: Result, dtype: int64"
      ]
     },
     "execution_count": 63,
     "metadata": {},
     "output_type": "execute_result"
    }
   ],
   "source": [
    "#Check frequency distribution of Result variable\n",
    "#here are 488 who remained contestants and the rest came out as something more,\n",
    "#we'll call all of them winners for now\n",
    "df2.Result.value_counts()"
   ]
  },
  {
   "cell_type": "code",
   "execution_count": 64,
   "metadata": {},
   "outputs": [],
   "source": [
    "#Calculate percentage of winners that are still operating and percentage of contestants that are still operating\n",
    "winners=df2.Result.value_counts()[1:].sum()\n",
    "contestants=df2.Result.value_counts()['Contestant']"
   ]
  },
  {
   "cell_type": "code",
   "execution_count": 70,
   "metadata": {},
   "outputs": [],
   "source": [
    "winners_operating=df2.OperatingState[df2.Result!='Contestant'].value_counts().loc['Operating']\n",
    "contestants_operating=df2.OperatingState[df2.Result=='Contestant'].value_counts().loc['Operating']"
   ]
  },
  {
   "cell_type": "code",
   "execution_count": 71,
   "metadata": {},
   "outputs": [
    {
     "name": "stdout",
     "output_type": "stream",
     "text": [
      "Percentage of winners are still operating= 0.764367816091954\n",
      "Percentage of contestants are still operating= 0.680327868852459\n"
     ]
    }
   ],
   "source": [
    "perW_O=winners_operating/winners\n",
    "print(\"Percentage of winners are still operating=\",perW_O)\n",
    "\n",
    "perC_O=contestants_operating/contestants\n",
    "print(\"Percentage of contestants are still operating=\",perC_O)"
   ]
  },
  {
   "cell_type": "code",
   "execution_count": 74,
   "metadata": {},
   "outputs": [
    {
     "name": "stdout",
     "output_type": "stream",
     "text": [
      "Since the p-value, 0.037<0.05(alpha)the difference is significant and we reject the Null hypothesis\n"
     ]
    }
   ],
   "source": [
    "#Write your hypothesis comparing the proportion of companies that are operating between winners and contestants\n",
    "\n",
    "#We are using 2 sample z-test propprtions\n",
    "#Null hyputhesis (Ho): The proportion of companies that are operating is the same in both categories - winners and contestants\n",
    "\n",
    "#Alternative hypothesis (Ha): The proportion of companies that are operating is significantly different from each other, among the two categories\n",
    "\n",
    "from statsmodels.stats.proportion import proportions_ztest\n",
    "\n",
    "test_statistic,p_value=proportions_ztest([contestants_operating, winners_operating],[contestants,winners])\n",
    "\n",
    "if p_value<=alpha:\n",
    "    print(f'Since the p-value, {round(p_value,3)}<{alpha}(alpha)the difference is significant and we reject the Null hypothesis')\n",
    "else:\n",
    "    print(f'''\\t Since the p-value, {round(p_value,3)}>{alpha}(aplha) the difference is not significant and, \n",
    "    \\t we fail to reject the Null hypothesis''')"
   ]
  },
  {
   "cell_type": "code",
   "execution_count": null,
   "metadata": {},
   "outputs": [],
   "source": [
    "Conclusion : The amount of funds a company raises is not a significant factor in deciding if the company will \n",
    "            remain operational or close down\n",
    "            Winners in the Company X battle have proven to remain operational more so, than the companies\n",
    "            that came out only as contestants"
   ]
  },
  {
   "cell_type": "code",
   "execution_count": 75,
   "metadata": {},
   "outputs": [
    {
     "data": {
      "text/plain": [
       "Disrupt NY 2015         21\n",
       "Disrupt SF 2015         19\n",
       "Disrupt SF 2013         19\n",
       "Disrupt NYC 2013        19\n",
       "Disrupt SF 2014         19\n",
       "Disrupt NYC 2012        19\n",
       "Disrupt SF 2011         19\n",
       "Disrupt SF 2016         17\n",
       "Disrupt NY 2016         16\n",
       "Disrupt NYC 2014        15\n",
       "Disrupt SF 2012         15\n",
       "Disrupt NYC 2011        15\n",
       "Disrupt SF 2010         13\n",
       "Disrupt London 2015     11\n",
       "Disrupt EU 2014         10\n",
       "Disrupt London 2016     10\n",
       "Disrupt NYC 2010        10\n",
       "Disrupt EU 2013          9\n",
       "Disrupt Beijing 2011     4\n",
       "Name: Event, dtype: int64"
      ]
     },
     "execution_count": 75,
     "metadata": {},
     "output_type": "execute_result"
    }
   ],
   "source": [
    "#Check distribution of the Event variable.\n",
    "#We have considered only Disrupt event in this example\n",
    "df1[df1.Event.apply(lambda x:'Disrupt' in x)].Event.value_counts()"
   ]
  },
  {
   "cell_type": "code",
   "execution_count": 76,
   "metadata": {},
   "outputs": [
    {
     "name": "stdout",
     "output_type": "stream",
     "text": [
      "1         Disrupt NYC 2013\n",
      "3          Disrupt NY 2016\n",
      "13         Disrupt SF 2015\n",
      "14     Disrupt London 2016\n",
      "16         Disrupt SF 2015\n",
      "              ...         \n",
      "635        Disrupt NY 2015\n",
      "641       Disrupt NYC 2013\n",
      "642        Disrupt SF 2014\n",
      "646    Disrupt London 2015\n",
      "660        Disrupt SF 2013\n",
      "Name: Event, Length: 185, dtype: object\n"
     ]
    }
   ],
   "source": [
    "#Select only the Event that has disrupt keyword from 2013 onwards\n",
    "events=df1[df1.Event.apply(lambda x:'Disrupt' in x and int(x[-4:])>2012)].Event\n",
    "print(events)"
   ]
  },
  {
   "cell_type": "code",
   "execution_count": 81,
   "metadata": {},
   "outputs": [
    {
     "name": "stdout",
     "output_type": "stream",
     "text": [
      "NY events= 71 SF Events= 74 EU Events= 40\n"
     ]
    }
   ],
   "source": [
    "#Write and perform your hypothesis along with significance test comparing the funds raised by companies across NY, SF and EU events from 2013 onwards\n",
    "\n",
    "NY_events=df1.loc[events[events.apply(lambda x:'NY' in x)].index,'Funds_in_Million']\n",
    "SF_events=df1.loc[events[events.apply(lambda x:'SF' in x)].index,'Funds_in_Million']\n",
    "EU_events=df1.loc[events[events.apply(lambda x:'EU' in x or 'London' in x)].index,'Funds_in_Million']\n",
    "print(\"NY events=\",len(NY_events),\"SF Events=\",len(SF_events),\"EU Events=\",len(EU_events))"
   ]
  },
  {
   "cell_type": "code",
   "execution_count": null,
   "metadata": {},
   "outputs": [],
   "source": [
    "Each of the three above variables hold the amount of funds with respect to the Cities where the event was organised\n",
    "NY holds 71 ,SF holds 74 and EU holds 40\n",
    "The sample sizes are different across the three categories and it is okay to perform ANoVa(Analysis of Variance) on sample of different sizes\n",
    "Null Hypothesis(Ho): Average funds raised by companies across three cities are the same\n",
    "Alternative Hypothesis(Ha): Average funds raised by companies across three cities are the different    "
   ]
  },
  {
   "cell_type": "code",
   "execution_count": 88,
   "metadata": {},
   "outputs": [
    {
     "name": "stderr",
     "output_type": "stream",
     "text": [
      "C:\\Users\\sAn\\anaconda3\\lib\\site-packages\\seaborn\\distributions.py:2551: FutureWarning: `distplot` is a deprecated function and will be removed in a future version. Please adapt your code to use either `displot` (a figure-level function with similar flexibility) or `histplot` (an axes-level function for histograms).\n",
      "  warnings.warn(msg, FutureWarning)\n",
      "C:\\Users\\sAn\\anaconda3\\lib\\site-packages\\seaborn\\distributions.py:2551: FutureWarning: `distplot` is a deprecated function and will be removed in a future version. Please adapt your code to use either `displot` (a figure-level function with similar flexibility) or `histplot` (an axes-level function for histograms).\n",
      "  warnings.warn(msg, FutureWarning)\n",
      "C:\\Users\\sAn\\anaconda3\\lib\\site-packages\\seaborn\\distributions.py:2551: FutureWarning: `distplot` is a deprecated function and will be removed in a future version. Please adapt your code to use either `displot` (a figure-level function with similar flexibility) or `histplot` (an axes-level function for histograms).\n",
      "  warnings.warn(msg, FutureWarning)\n"
     ]
    },
    {
     "data": {
      "image/png": "[encoded data removed]",
      "text/plain": [
       "<Figure size 1080x432 with 1 Axes>"
      ]
     },
     "metadata": {
      "needs_background": "light"
     },
     "output_type": "display_data"
    }
   ],
   "source": [
    "#Plot the distribution plot comparing the 3 city events\n",
    "plt.figure(figsize=(15,6))\n",
    "sns.distplot(NY_events,color='Red',label='NY')\n",
    "sns.distplot(SF_events,color='Blue',label='SF')\n",
    "sns.distplot(EU_events,color='Green',label='EU')\n",
    "plt.show()"
   ]
  },
  {
   "cell_type": "code",
   "execution_count": null,
   "metadata": {},
   "outputs": [],
   "source": [
    "5) Write your observations on improvements or suggestions on quality, quantity, variety, velocity, veracity etc.\n",
    "on the data points collected to perform a better data analysis\n",
    "\n",
    "1) We can maintain quality by analysing the business needs, reviewing processes, accessing third party tool.\n",
    "2) We can verify the mandatory fields for record entry.\n",
    "3) We can ensure that any rules/guidelines deployed are still valid.\n",
    "4) We sholud follow the procedure that the company wishes to follow.\n",
    "5) Finding missing values and outliers can be used for better data analysis process."
   ]
  }
 ],
 "metadata": {
  "kernelspec": {
   "display_name": "Python 3",
   "language": "python",
   "name": "python3"
  },
  "language_info": {
   "codemirror_mode": {
    "name": "ipython",
    "version": 3
   },
   "file_extension": ".py",
   "mimetype": "text/x-python",
   "name": "python",
   "nbconvert_exporter": "python",
   "pygments_lexer": "ipython3",
   "version": "3.8.5"
  }
 },
 "nbformat": 4,
 "nbformat_minor": 4
}
